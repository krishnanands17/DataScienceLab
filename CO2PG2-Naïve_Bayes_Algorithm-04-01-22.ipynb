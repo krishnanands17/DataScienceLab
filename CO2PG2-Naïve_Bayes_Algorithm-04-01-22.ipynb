{
  "nbformat": 4,
  "nbformat_minor": 0,
  "metadata": {
    "colab": {
      "name": "Naïve Bayes Algorithm.ipynb",
      "provenance": [],
      "collapsed_sections": [],
      "include_colab_link": true
    },
    "kernelspec": {
      "name": "python3",
      "display_name": "Python 3"
    },
    "language_info": {
      "name": "python"
    }
  },
  "cells": [
    {
      "cell_type": "markdown",
      "metadata": {
        "id": "view-in-github",
        "colab_type": "text"
      },
      "source": [
        "<a href=\"https://colab.research.google.com/github/krishnanands17/DataScienceLab/blob/main/CO2PG2-Na%C3%AFve_Bayes_Algorithm-04-01-22.ipynb\" target=\"_parent\"><img src=\"https://colab.research.google.com/assets/colab-badge.svg\" alt=\"Open In Colab\"/></a>"
      ]
    },
    {
      "cell_type": "markdown",
      "source": [
        "Aim: Program to implement Naïve Bayes Algorithm using any standard dataset\n",
        "available in the public domain and find the accuracy of the algorithm"
      ],
      "metadata": {
        "id": "f4TwDjLCpTcn"
      }
    },
    {
      "cell_type": "markdown",
      "source": [
        "\n",
        "Short notes: Naive Bayes\n",
        "\n",
        "Bayes’ Theorem provides a way that we can calculate the probability of a piece of data belonging to a given class, given our prior knowledge. Bayes’ Theorem is stated as:\n",
        "\n",
        "P(class|data) = (P(data|class) * P(class)) / P(data)\n",
        "\n",
        "Where P(class|data) is the probability of class given the provided data."
      ],
      "metadata": {
        "id": "_23W0JVJq1-V"
      }
    },
    {
      "cell_type": "markdown",
      "source": [
        "We are using Iris Dataset. The Iris Flower Dataset involves predicting the flower species given measurements of iris flowers.\n",
        "\n",
        "It is a multiclass classification problem. The number of observations for each class is balanced. There are 150 observations with 4 input variables and 1 output variable. The variable names are as follows:\n",
        "\n",
        "Sepal length in cm.\n",
        "\n",
        "Sepal width in cm.\n",
        "\n",
        "Petal length in cm.\n",
        "\n",
        "Petal width in cm., and\n",
        "\n",
        "Class.\n",
        "\n",
        "Algorithm:\n",
        "\n",
        "Step 1: Separate By Class.\n",
        "\n",
        "Step 2: Summarize Dataset.\n",
        "\n",
        "Step 3: Summarize Data By Class.\n",
        "\n",
        "Step 4: Gaussian Probability Density Function.\n",
        "\n",
        "Step 5: Class Probabilities."
      ],
      "metadata": {
        "id": "Aq3NJZhGrENv"
      }
    },
    {
      "cell_type": "code",
      "source": [
        "#Import Modules\n",
        "from sklearn import neighbors, datasets, preprocessing\n",
        "from sklearn.model_selection import train_test_split\n",
        "from sklearn.metrics import accuracy_score\n",
        "from sklearn.metrics import classification_report\n",
        "from sklearn.metrics import confusion_matrix\n",
        "\n",
        "#Load iris dataset & do train_test_split \n",
        "iris = datasets.load_iris()\n",
        "x = iris.data[ : , : ]\n",
        "y = iris.target\n",
        "x_train,x_test,y_train,y_test = train_test_split(x,y,stratify=y,random_state=42)\n"
      ],
      "metadata": {
        "id": "N3sWnWz_rxIR"
      },
      "execution_count": null,
      "outputs": []
    },
    {
      "cell_type": "code",
      "source": [
        "#Feature Scaling\n",
        "scalar = preprocessing.StandardScaler().fit(x_train)\n",
        "x_train = scalar.transform(x_train)\n",
        "x_test=scalar.transform(x_test)\n",
        "x_train"
      ],
      "metadata": {
        "id": "Jq-Uyizutrxu",
        "colab": {
          "base_uri": "https://localhost:8080/"
        },
        "outputId": "3c52ad1c-73c6-49ce-e555-4a14f64c8f48"
      },
      "execution_count": null,
      "outputs": [
        {
          "output_type": "execute_result",
          "data": {
            "text/plain": [
              "array([[ 1.79213839, -0.60238047,  1.31532306,  0.92095427],\n",
              "       [ 2.14531053, -0.60238047,  1.65320421,  1.05135487],\n",
              "       [-0.4446185 , -1.50797259, -0.03620155, -0.25265117],\n",
              "       [ 0.26172578, -0.60238047,  0.13273902,  0.13855064],\n",
              "       [-0.4446185 , -1.28157456,  0.13273902,  0.13855064],\n",
              "       [ 0.49717388,  0.52960968,  1.25900953,  1.70335789],\n",
              "       [-1.50413492,  0.75600771, -1.33141264, -1.1654554 ],\n",
              "       [ 0.49717388, -0.8287785 ,  0.63956075,  0.79055366],\n",
              "       [-1.26868682,  0.07681362, -1.21878559, -1.295856  ],\n",
              "       [ 0.37944983, -0.60238047,  0.58324723,  0.79055366],\n",
              "       [-0.91551468,  1.66159983, -1.04984501, -1.03505479],\n",
              "       [ 0.61489792, -0.8287785 ,  0.86481486,  0.92095427],\n",
              "       [-1.03323873, -2.41356471, -0.1488286 , -0.25265117],\n",
              "       [-0.4446185 ,  2.56719194, -1.33141264, -1.295856  ],\n",
              "       [-0.79779064,  2.34079391, -1.27509911, -1.42625661],\n",
              "       [-0.09144636, -0.8287785 ,  0.0764255 ,  0.00815004],\n",
              "       [ 1.55669029, -0.14958441,  1.14638248,  0.52975245],\n",
              "       [-0.91551468,  0.98240574, -1.33141264, -1.1654554 ],\n",
              "       [-0.2091704 ,  3.019988  , -1.27509911, -1.03505479],\n",
              "       [-0.79779064, -0.8287785 ,  0.0764255 ,  0.26895125],\n",
              "       [ 1.3212422 ,  0.30321165,  0.5269337 ,  0.26895125],\n",
              "       [ 1.20351815,  0.07681362,  0.63956075,  0.39935185],\n",
              "       [-0.68006659,  1.4352018 , -1.27509911, -1.295856  ],\n",
              "       [-0.32689445, -0.37598244, -0.09251508,  0.13855064],\n",
              "       [ 0.96807006, -0.14958441,  0.80850133,  1.44255668],\n",
              "       [-1.15096278, -0.14958441, -1.33141264, -1.295856  ],\n",
              "       [ 1.08579411,  0.30321165,  1.20269601,  1.44255668],\n",
              "       [ 0.49717388, -1.73437062,  0.35799313,  0.13855064],\n",
              "       [ 1.20351815,  0.30321165,  1.09006896,  1.44255668],\n",
              "       [-1.03323873,  1.20880377, -1.33141264, -1.295856  ],\n",
              "       [-1.15096278,  0.07681362, -1.27509911, -1.295856  ],\n",
              "       [ 0.96807006,  0.07681362,  0.5269337 ,  0.39935185],\n",
              "       [-1.15096278,  0.07681362, -1.27509911, -1.42625661],\n",
              "       [ 0.49717388, -0.60238047,  0.7521878 ,  0.39935185],\n",
              "       [-1.15096278,  1.20880377, -1.33141264, -1.42625661],\n",
              "       [-1.26868682,  0.75600771, -1.04984501, -1.295856  ],\n",
              "       [-0.32689445, -0.14958441,  0.18905255,  0.13855064],\n",
              "       [-0.91551468,  0.75600771, -1.27509911, -1.295856  ],\n",
              "       [ 0.14400174, -0.37598244,  0.41430665,  0.39935185],\n",
              "       [-1.85730706, -0.14958441, -1.50035321, -1.42625661],\n",
              "       [-1.26868682, -0.14958441, -1.33141264, -1.42625661],\n",
              "       [-0.2091704 , -0.14958441,  0.24536608,  0.00815004],\n",
              "       [-0.09144636, -0.60238047,  0.7521878 ,  1.57295728],\n",
              "       [-0.09144636, -0.8287785 ,  0.7521878 ,  0.92095427],\n",
              "       [-1.03323873, -0.14958441, -1.21878559, -1.295856  ],\n",
              "       [ 0.73262197,  0.30321165,  0.7521878 ,  1.05135487],\n",
              "       [ 0.61489792, -0.37598244,  0.3016796 ,  0.13855064],\n",
              "       [-0.91551468,  1.66159983, -1.27509911, -1.1654554 ],\n",
              "       [ 1.08579411, -0.14958441,  0.97744191,  1.18175547],\n",
              "       [-1.38641087,  0.30321165, -1.21878559, -1.295856  ],\n",
              "       [ 0.61489792, -0.60238047,  1.03375543,  1.18175547],\n",
              "       [ 2.14531053,  1.66159983,  1.65320421,  1.31215608],\n",
              "       [-0.56234254,  1.88799786, -1.38772616, -1.03505479],\n",
              "       [ 0.73262197, -0.60238047,  0.47062018,  0.39935185],\n",
              "       [ 0.49717388, -1.28157456,  0.69587428,  0.92095427],\n",
              "       [ 2.38075862,  1.66159983,  1.48426364,  1.05135487],\n",
              "       [ 0.96807006,  0.07681362,  0.35799313,  0.26895125],\n",
              "       [ 0.49717388, -1.28157456,  0.63956075,  0.39935185],\n",
              "       [-0.4446185 ,  0.98240574, -1.38772616, -1.295856  ],\n",
              "       [ 0.14400174, -0.8287785 ,  0.7521878 ,  0.52975245],\n",
              "       [-0.32689445, -0.8287785 ,  0.24536608,  0.13855064],\n",
              "       [ 2.14531053, -0.14958441,  1.31532306,  1.44255668],\n",
              "       [ 0.37944983, -1.96076865,  0.41430665,  0.39935185],\n",
              "       [ 0.49717388, -0.37598244,  1.03375543,  0.79055366],\n",
              "       [-1.03323873,  0.98240574, -1.38772616, -1.1654554 ],\n",
              "       [-0.4446185 , -1.50797259,  0.02011197, -0.12225057],\n",
              "       [-1.73958301, -0.37598244, -1.33141264, -1.295856  ],\n",
              "       [ 1.43896625, -0.14958441,  1.20269601,  1.18175547],\n",
              "       [ 1.08579411, -0.60238047,  0.58324723,  0.26895125],\n",
              "       [ 2.02758648, -0.14958441,  1.59689069,  1.18175547],\n",
              "       [-0.2091704 , -1.05517653, -0.1488286 , -0.25265117],\n",
              "       [ 0.96807006,  0.52960968,  1.09006896,  1.70335789],\n",
              "       [ 0.49717388,  0.75600771,  1.03375543,  1.57295728],\n",
              "       [-1.03323873,  0.75600771, -1.21878559, -1.03505479],\n",
              "       [ 0.96807006,  0.52960968,  1.09006896,  1.18175547],\n",
              "       [ 0.85034602, -0.37598244,  0.47062018,  0.13855064],\n",
              "       [-1.38641087,  0.30321165, -1.38772616, -1.295856  ],\n",
              "       [ 0.61489792,  0.30321165,  0.86481486,  1.44255668],\n",
              "       [-1.50413492,  0.07681362, -1.27509911, -1.295856  ],\n",
              "       [ 0.61489792,  0.07681362,  0.97744191,  0.79055366],\n",
              "       [-0.09144636, -0.8287785 ,  0.18905255, -0.25265117],\n",
              "       [ 0.02627769, -0.14958441,  0.24536608,  0.39935185],\n",
              "       [-0.91551468,  1.66159983, -1.21878559, -1.295856  ],\n",
              "       [ 0.02627769, -0.14958441,  0.7521878 ,  0.79055366],\n",
              "       [ 1.55669029,  1.20880377,  1.31532306,  1.70335789],\n",
              "       [-1.26868682,  0.75600771, -1.21878559, -1.295856  ],\n",
              "       [-1.03323873,  0.98240574, -1.21878559, -0.77425359],\n",
              "       [ 1.20351815,  0.07681362,  0.92112838,  1.18175547],\n",
              "       [-0.09144636, -0.8287785 ,  0.7521878 ,  0.92095427],\n",
              "       [-0.2091704 , -0.60238047,  0.41430665,  0.13855064],\n",
              "       [ 1.55669029,  0.30321165,  1.25900953,  0.79055366],\n",
              "       [-0.79779064,  0.98240574, -1.27509911, -1.295856  ],\n",
              "       [ 2.14531053, -1.05517653,  1.76583126,  1.44255668],\n",
              "       [-0.4446185 , -1.05517653,  0.35799313,  0.00815004],\n",
              "       [-0.2091704 , -1.28157456,  0.69587428,  1.05135487],\n",
              "       [-0.32689445, -0.60238047,  0.63956075,  1.05135487],\n",
              "       [-0.56234254,  0.75600771, -1.27509911, -1.03505479],\n",
              "       [ 0.14400174, -1.96076865,  0.13273902, -0.25265117],\n",
              "       [ 0.37944983, -0.37598244,  0.3016796 ,  0.13855064],\n",
              "       [ 0.26172578, -0.60238047,  0.5269337 ,  0.00815004],\n",
              "       [-0.91551468, -1.28157456, -0.43039623, -0.12225057],\n",
              "       [ 0.26172578, -0.14958441,  0.47062018,  0.26895125],\n",
              "       [-0.91551468,  0.98240574, -1.33141264, -1.295856  ],\n",
              "       [ 0.14400174, -1.96076865,  0.69587428,  0.39935185],\n",
              "       [ 0.02627769,  0.30321165,  0.58324723,  0.79055366],\n",
              "       [ 0.85034602, -0.14958441,  0.35799313,  0.26895125],\n",
              "       [-0.56234254,  1.88799786, -1.16247206, -1.03505479],\n",
              "       [-1.03323873,  0.52960968, -1.33141264, -1.295856  ],\n",
              "       [-0.91551468,  1.4352018 , -1.27509911, -1.03505479],\n",
              "       [-1.26868682, -0.14958441, -1.33141264, -1.1654554 ],\n",
              "       [-0.09144636, -1.05517653,  0.13273902,  0.00815004],\n",
              "       [-1.50413492,  0.30321165, -1.33141264, -1.295856  ]])"
            ]
          },
          "metadata": {},
          "execution_count": 3
        }
      ]
    },
    {
      "cell_type": "markdown",
      "source": [
        "In this step, we introduce the class GaussianNB that is used from the sklearn.naive_bayes library. Here, we have used a Gaussian model, there are several other models such as Bernoulli, Categorical and Multinomial. Here, we assign the GaussianNB class to the variable classifier and fit the X_train and y_train values to it for training purpose."
      ],
      "metadata": {
        "id": "fHscTWiVt8pC"
      }
    },
    {
      "cell_type": "code",
      "source": [
        "#Implement Naive Bayes\n",
        "from sklearn.naive_bayes import GaussianNB\n",
        "classifier = GaussianNB()\n",
        "classifier.fit(x_train,y_train)\n"
      ],
      "metadata": {
        "id": "u0z9mzISuBKw",
        "colab": {
          "base_uri": "https://localhost:8080/"
        },
        "outputId": "61dbffac-12d6-41d5-86ca-43ae0246a027"
      },
      "execution_count": null,
      "outputs": [
        {
          "output_type": "execute_result",
          "data": {
            "text/plain": [
              "GaussianNB()"
            ]
          },
          "metadata": {},
          "execution_count": 6
        }
      ]
    },
    {
      "cell_type": "code",
      "source": [
        "#Predict the values for test data  \n",
        "y_pred = classifier.predict(x_test)\n",
        "\n",
        "# Display accuracy score & display confusion matrix & classification report\n",
        "print(accuracy_score(y_test,y_pred))\n",
        "print(confusion_matrix(y_test,y_pred))\n",
        "print(classification_report(y_test,y_pred))\n"
      ],
      "metadata": {
        "id": "hv382A48usEq",
        "colab": {
          "base_uri": "https://localhost:8080/"
        },
        "outputId": "9dd551be-d372-45f7-d575-8a9dcfd289e7"
      },
      "execution_count": null,
      "outputs": [
        {
          "output_type": "stream",
          "name": "stdout",
          "text": [
            "0.9210526315789473\n",
            "[[12  0  0]\n",
            " [ 0 12  1]\n",
            " [ 0  2 11]]\n",
            "              precision    recall  f1-score   support\n",
            "\n",
            "           0       1.00      1.00      1.00        12\n",
            "           1       0.86      0.92      0.89        13\n",
            "           2       0.92      0.85      0.88        13\n",
            "\n",
            "    accuracy                           0.92        38\n",
            "   macro avg       0.92      0.92      0.92        38\n",
            "weighted avg       0.92      0.92      0.92        38\n",
            "\n"
          ]
        }
      ]
    },
    {
      "cell_type": "code",
      "source": [
        "#implement  Bernoulli Theorem\n",
        "from sklearn.naive_bayes import BernoulliNB\n",
        "classifier1 = BernoulliNB()\n",
        "classifier1.fit(x_train,y_train)\n"
      ],
      "metadata": {
        "colab": {
          "base_uri": "https://localhost:8080/"
        },
        "id": "n1Vx2ohpM-kg",
        "outputId": "4319c240-1d49-4639-fe36-abd13bdc91e2"
      },
      "execution_count": null,
      "outputs": [
        {
          "output_type": "execute_result",
          "data": {
            "text/plain": [
              "BernoulliNB()"
            ]
          },
          "metadata": {},
          "execution_count": 8
        }
      ]
    },
    {
      "cell_type": "code",
      "source": [
        "#Predict the values for test data  \n",
        "y_pred = classifier1.predict(x_test)\n",
        "\n",
        "# Display accuracy score & display confusion matrix & classification report\n",
        "print(accuracy_score(y_test,y_pred))\n",
        "print(confusion_matrix(y_test,y_pred))\n",
        "print(classification_report(y_test,y_pred))\n"
      ],
      "metadata": {
        "colab": {
          "base_uri": "https://localhost:8080/"
        },
        "id": "zM_Ku7GaNvVR",
        "outputId": "1c5d702f-cfde-4349-d297-168934acaa90"
      },
      "execution_count": null,
      "outputs": [
        {
          "output_type": "stream",
          "name": "stdout",
          "text": [
            "0.7894736842105263\n",
            "[[12  0  0]\n",
            " [ 2  6  5]\n",
            " [ 0  1 12]]\n",
            "              precision    recall  f1-score   support\n",
            "\n",
            "           0       0.86      1.00      0.92        12\n",
            "           1       0.86      0.46      0.60        13\n",
            "           2       0.71      0.92      0.80        13\n",
            "\n",
            "    accuracy                           0.79        38\n",
            "   macro avg       0.81      0.79      0.77        38\n",
            "weighted avg       0.81      0.79      0.77        38\n",
            "\n"
          ]
        }
      ]
    },
    {
      "cell_type": "markdown",
      "source": [
        "From the above confusion matrix, we infer that, out of 45 test set data, 44 were correctly classified and only 1 was incorrectly classified. This gives us a high accuracy of 97.7%."
      ],
      "metadata": {
        "id": "JFg1mUCswAIp"
      }
    }
  ]
}