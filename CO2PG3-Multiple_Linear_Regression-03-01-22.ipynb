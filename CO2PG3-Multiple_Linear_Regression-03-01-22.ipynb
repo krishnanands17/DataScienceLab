{
  "nbformat": 4,
  "nbformat_minor": 0,
  "metadata": {
    "colab": {
      "name": "MultipleLinearRegression-KRISHNANANDS ",
      "provenance": [],
      "collapsed_sections": [],
      "include_colab_link": true
    },
    "kernelspec": {
      "name": "python3",
      "display_name": "Python 3"
    }
  },
  "cells": [
    {
      "cell_type": "markdown",
      "metadata": {
        "id": "view-in-github",
        "colab_type": "text"
      },
      "source": [
        "<a href=\"https://colab.research.google.com/github/krishnanands17/DataScienceLab/blob/main/CO2PG2-Multiple_Linear_Regression-03-01-22.ipynb\" target=\"_parent\"><img src=\"https://colab.research.google.com/assets/colab-badge.svg\" alt=\"Open In Colab\"/></a>"
      ]
    },
    {
      "cell_type": "markdown",
      "metadata": {
        "id": "2FbiXuSJANTj"
      },
      "source": [
        "\n",
        "# MultipleLinearRegression"
      ]
    },
    {
      "cell_type": "markdown",
      "metadata": {
        "id": "XpefFKryHnV_"
      },
      "source": [
        "**Program to implement multiple linear regression technique using any standard dataset available in the public domain and evaluate its performance.**\n",
        "\n",
        "\n",
        "\n",
        "The description for all the columns containing data for air pollutants, temperature, relative humidity and absolute humidity is provided below.\n",
        "\n",
        "\n",
        "|Columns|Description|\n",
        "|-|-|\n",
        "|PT08.S1(CO)|PT08.S1 (tin oxide) hourly averaged sensor response (nominally $\\text{CO}$ targeted)|\n",
        "|C6H6(GT)|True hourly averaged Benzene concentration in $\\frac{\\mu g}{m^3}$|\n",
        "|PT08.S2(NMHC)|PT08.S2 (titania) hourly averaged sensor response (nominally $\\text{NMHC}$ targeted)|\n",
        "|PT08.S3(NOx)|PT08.S3 (tungsten oxide) hourly averaged sensor response (nominally $\\text{NO}_x$ targeted)|\n",
        "|PT08.S4(NO2)|PT08.S4 (tungsten oxide) hourly averaged sensor response (nominally $\\text{NO}_2$ targeted)|\n",
        "|PT08.S5(O3) |PT08.S5 (indium oxide) hourly averaged sensor response (nominally $\\text{O}_3$ targeted)|\n",
        "|T|Temperature in Â°C|\n",
        "|RH|Relative Humidity (%)|\n",
        "|AH|AH Absolute Humidity|"
      ]
    },
    {
      "cell_type": "markdown",
      "metadata": {
        "id": "AsKszxp14Cj8"
      },
      "source": [
        "---"
      ]
    },
    {
      "cell_type": "markdown",
      "metadata": {
        "id": "6myfsJox3Tz2"
      },
      "source": [
        "#### Multiple Linear Regression Model Using `sklearn` Module\n"
      ]
    },
    {
      "cell_type": "code",
      "source": [
        "#Load Dataset & display 1st 5 rows. Github link is as follows:\n",
        "# https://raw.githubusercontent.com/jiss-sngce/air/main/airquality.csv.csv\n",
        "import pandas as pd\n",
        "df=pd.read_csv('https://raw.githubusercontent.com/jiss-sngce/air/main/airquality.csv.csv')\n",
        "df.head()"
      ],
      "metadata": {
        "id": "OQgFJ4Xcogb-",
        "colab": {
          "base_uri": "https://localhost:8080/",
          "height": 206
        },
        "outputId": "4b80f3d2-ef13-4be5-af68-3cd565650397"
      },
      "execution_count": null,
      "outputs": [
        {
          "output_type": "execute_result",
          "data": {
            "text/html": [
              "\n",
              "  <div id=\"df-ddaee5b9-19fd-4ba3-846a-223f11a1f7ac\">\n",
              "    <div class=\"colab-df-container\">\n",
              "      <div>\n",
              "<style scoped>\n",
              "    .dataframe tbody tr th:only-of-type {\n",
              "        vertical-align: middle;\n",
              "    }\n",
              "\n",
              "    .dataframe tbody tr th {\n",
              "        vertical-align: top;\n",
              "    }\n",
              "\n",
              "    .dataframe thead th {\n",
              "        text-align: right;\n",
              "    }\n",
              "</style>\n",
              "<table border=\"1\" class=\"dataframe\">\n",
              "  <thead>\n",
              "    <tr style=\"text-align: right;\">\n",
              "      <th></th>\n",
              "      <th>DateTime</th>\n",
              "      <th>PT08.S1(CO)</th>\n",
              "      <th>C6H6(GT)</th>\n",
              "      <th>PT08.S2(NMHC)</th>\n",
              "      <th>PT08.S3(NOx)</th>\n",
              "      <th>PT08.S4(NO2)</th>\n",
              "      <th>PT08.S5(O3)</th>\n",
              "      <th>T</th>\n",
              "      <th>RH</th>\n",
              "      <th>AH</th>\n",
              "      <th>Year</th>\n",
              "      <th>Month</th>\n",
              "      <th>Day</th>\n",
              "      <th>Day Name</th>\n",
              "    </tr>\n",
              "  </thead>\n",
              "  <tbody>\n",
              "    <tr>\n",
              "      <th>0</th>\n",
              "      <td>2004-03-10 18:00:00</td>\n",
              "      <td>1360.0</td>\n",
              "      <td>11.9</td>\n",
              "      <td>1046.0</td>\n",
              "      <td>1056.0</td>\n",
              "      <td>1692.0</td>\n",
              "      <td>1268.0</td>\n",
              "      <td>13.6</td>\n",
              "      <td>48.9</td>\n",
              "      <td>0.7578</td>\n",
              "      <td>2004</td>\n",
              "      <td>3</td>\n",
              "      <td>10</td>\n",
              "      <td>Wednesday</td>\n",
              "    </tr>\n",
              "    <tr>\n",
              "      <th>1</th>\n",
              "      <td>2004-03-10 19:00:00</td>\n",
              "      <td>1292.0</td>\n",
              "      <td>9.4</td>\n",
              "      <td>955.0</td>\n",
              "      <td>1174.0</td>\n",
              "      <td>1559.0</td>\n",
              "      <td>972.0</td>\n",
              "      <td>13.3</td>\n",
              "      <td>47.7</td>\n",
              "      <td>0.7255</td>\n",
              "      <td>2004</td>\n",
              "      <td>3</td>\n",
              "      <td>10</td>\n",
              "      <td>Wednesday</td>\n",
              "    </tr>\n",
              "    <tr>\n",
              "      <th>2</th>\n",
              "      <td>2004-03-10 20:00:00</td>\n",
              "      <td>1402.0</td>\n",
              "      <td>9.0</td>\n",
              "      <td>939.0</td>\n",
              "      <td>1140.0</td>\n",
              "      <td>1555.0</td>\n",
              "      <td>1074.0</td>\n",
              "      <td>11.9</td>\n",
              "      <td>54.0</td>\n",
              "      <td>0.7502</td>\n",
              "      <td>2004</td>\n",
              "      <td>3</td>\n",
              "      <td>10</td>\n",
              "      <td>Wednesday</td>\n",
              "    </tr>\n",
              "    <tr>\n",
              "      <th>3</th>\n",
              "      <td>2004-03-10 21:00:00</td>\n",
              "      <td>1376.0</td>\n",
              "      <td>9.2</td>\n",
              "      <td>948.0</td>\n",
              "      <td>1092.0</td>\n",
              "      <td>1584.0</td>\n",
              "      <td>1203.0</td>\n",
              "      <td>11.0</td>\n",
              "      <td>60.0</td>\n",
              "      <td>0.7867</td>\n",
              "      <td>2004</td>\n",
              "      <td>3</td>\n",
              "      <td>10</td>\n",
              "      <td>Wednesday</td>\n",
              "    </tr>\n",
              "    <tr>\n",
              "      <th>4</th>\n",
              "      <td>2004-03-10 22:00:00</td>\n",
              "      <td>1272.0</td>\n",
              "      <td>6.5</td>\n",
              "      <td>836.0</td>\n",
              "      <td>1205.0</td>\n",
              "      <td>1490.0</td>\n",
              "      <td>1110.0</td>\n",
              "      <td>11.2</td>\n",
              "      <td>59.6</td>\n",
              "      <td>0.7888</td>\n",
              "      <td>2004</td>\n",
              "      <td>3</td>\n",
              "      <td>10</td>\n",
              "      <td>Wednesday</td>\n",
              "    </tr>\n",
              "  </tbody>\n",
              "</table>\n",
              "</div>\n",
              "      <button class=\"colab-df-convert\" onclick=\"convertToInteractive('df-ddaee5b9-19fd-4ba3-846a-223f11a1f7ac')\"\n",
              "              title=\"Convert this dataframe to an interactive table.\"\n",
              "              style=\"display:none;\">\n",
              "        \n",
              "  <svg xmlns=\"http://www.w3.org/2000/svg\" height=\"24px\"viewBox=\"0 0 24 24\"\n",
              "       width=\"24px\">\n",
              "    <path d=\"M0 0h24v24H0V0z\" fill=\"none\"/>\n",
              "    <path d=\"M18.56 5.44l.94 2.06.94-2.06 2.06-.94-2.06-.94-.94-2.06-.94 2.06-2.06.94zm-11 1L8.5 8.5l.94-2.06 2.06-.94-2.06-.94L8.5 2.5l-.94 2.06-2.06.94zm10 10l.94 2.06.94-2.06 2.06-.94-2.06-.94-.94-2.06-.94 2.06-2.06.94z\"/><path d=\"M17.41 7.96l-1.37-1.37c-.4-.4-.92-.59-1.43-.59-.52 0-1.04.2-1.43.59L10.3 9.45l-7.72 7.72c-.78.78-.78 2.05 0 2.83L4 21.41c.39.39.9.59 1.41.59.51 0 1.02-.2 1.41-.59l7.78-7.78 2.81-2.81c.8-.78.8-2.07 0-2.86zM5.41 20L4 18.59l7.72-7.72 1.47 1.35L5.41 20z\"/>\n",
              "  </svg>\n",
              "      </button>\n",
              "      \n",
              "  <style>\n",
              "    .colab-df-container {\n",
              "      display:flex;\n",
              "      flex-wrap:wrap;\n",
              "      gap: 12px;\n",
              "    }\n",
              "\n",
              "    .colab-df-convert {\n",
              "      background-color: #E8F0FE;\n",
              "      border: none;\n",
              "      border-radius: 50%;\n",
              "      cursor: pointer;\n",
              "      display: none;\n",
              "      fill: #1967D2;\n",
              "      height: 32px;\n",
              "      padding: 0 0 0 0;\n",
              "      width: 32px;\n",
              "    }\n",
              "\n",
              "    .colab-df-convert:hover {\n",
              "      background-color: #E2EBFA;\n",
              "      box-shadow: 0px 1px 2px rgba(60, 64, 67, 0.3), 0px 1px 3px 1px rgba(60, 64, 67, 0.15);\n",
              "      fill: #174EA6;\n",
              "    }\n",
              "\n",
              "    [theme=dark] .colab-df-convert {\n",
              "      background-color: #3B4455;\n",
              "      fill: #D2E3FC;\n",
              "    }\n",
              "\n",
              "    [theme=dark] .colab-df-convert:hover {\n",
              "      background-color: #434B5C;\n",
              "      box-shadow: 0px 1px 3px 1px rgba(0, 0, 0, 0.15);\n",
              "      filter: drop-shadow(0px 1px 2px rgba(0, 0, 0, 0.3));\n",
              "      fill: #FFFFFF;\n",
              "    }\n",
              "  </style>\n",
              "\n",
              "      <script>\n",
              "        const buttonEl =\n",
              "          document.querySelector('#df-ddaee5b9-19fd-4ba3-846a-223f11a1f7ac button.colab-df-convert');\n",
              "        buttonEl.style.display =\n",
              "          google.colab.kernel.accessAllowed ? 'block' : 'none';\n",
              "\n",
              "        async function convertToInteractive(key) {\n",
              "          const element = document.querySelector('#df-ddaee5b9-19fd-4ba3-846a-223f11a1f7ac');\n",
              "          const dataTable =\n",
              "            await google.colab.kernel.invokeFunction('convertToInteractive',\n",
              "                                                     [key], {});\n",
              "          if (!dataTable) return;\n",
              "\n",
              "          const docLinkHtml = 'Like what you see? Visit the ' +\n",
              "            '<a target=\"_blank\" href=https://colab.research.google.com/notebooks/data_table.ipynb>data table notebook</a>'\n",
              "            + ' to learn more about interactive tables.';\n",
              "          element.innerHTML = '';\n",
              "          dataTable['output_type'] = 'display_data';\n",
              "          await google.colab.output.renderOutput(dataTable, element);\n",
              "          const docLink = document.createElement('div');\n",
              "          docLink.innerHTML = docLinkHtml;\n",
              "          element.appendChild(docLink);\n",
              "        }\n",
              "      </script>\n",
              "    </div>\n",
              "  </div>\n",
              "  "
            ],
            "text/plain": [
              "              DateTime  PT08.S1(CO)  C6H6(GT)  ...  Month  Day   Day Name\n",
              "0  2004-03-10 18:00:00       1360.0      11.9  ...      3   10  Wednesday\n",
              "1  2004-03-10 19:00:00       1292.0       9.4  ...      3   10  Wednesday\n",
              "2  2004-03-10 20:00:00       1402.0       9.0  ...      3   10  Wednesday\n",
              "3  2004-03-10 21:00:00       1376.0       9.2  ...      3   10  Wednesday\n",
              "4  2004-03-10 22:00:00       1272.0       6.5  ...      3   10  Wednesday\n",
              "\n",
              "[5 rows x 14 columns]"
            ]
          },
          "metadata": {},
          "execution_count": 1
        }
      ]
    },
    {
      "cell_type": "code",
      "source": [
        "#Display the columns in dataframe\n",
        "df.info"
      ],
      "metadata": {
        "id": "ddPjov2mRHUd",
        "colab": {
          "base_uri": "https://localhost:8080/"
        },
        "outputId": "a58cddd6-9c4f-40ea-e5fe-6380a7349471"
      },
      "execution_count": null,
      "outputs": [
        {
          "output_type": "execute_result",
          "data": {
            "text/plain": [
              "<bound method DataFrame.info of                  DateTime  PT08.S1(CO)  C6H6(GT)  ...  Month  Day   Day Name\n",
              "0     2004-03-10 18:00:00       1360.0      11.9  ...      3   10  Wednesday\n",
              "1     2004-03-10 19:00:00       1292.0       9.4  ...      3   10  Wednesday\n",
              "2     2004-03-10 20:00:00       1402.0       9.0  ...      3   10  Wednesday\n",
              "3     2004-03-10 21:00:00       1376.0       9.2  ...      3   10  Wednesday\n",
              "4     2004-03-10 22:00:00       1272.0       6.5  ...      3   10  Wednesday\n",
              "...                   ...          ...       ...  ...    ...  ...        ...\n",
              "9352  2005-04-04 10:00:00       1314.0      13.5  ...      4    4     Monday\n",
              "9353  2005-04-04 11:00:00       1163.0      11.4  ...      4    4     Monday\n",
              "9354  2005-04-04 12:00:00       1142.0      12.4  ...      4    4     Monday\n",
              "9355  2005-04-04 13:00:00       1003.0       9.5  ...      4    4     Monday\n",
              "9356  2005-04-04 14:00:00       1071.0      11.9  ...      4    4     Monday\n",
              "\n",
              "[9357 rows x 14 columns]>"
            ]
          },
          "metadata": {},
          "execution_count": 2
        }
      ]
    },
    {
      "cell_type": "code",
      "metadata": {
        "id": "m8d5faFMdTvz",
        "colab": {
          "base_uri": "https://localhost:8080/"
        },
        "outputId": "01f26680-4e9a-42f6-f23a-6382f1249b75"
      },
      "source": [
        "# Build a linear regression model using the sklearn module by including all the features except DateTime,Day Name & RH.\n",
        "from sklearn.model_selection import train_test_split\n",
        "from sklearn.linear_model import LinearRegression\n",
        "features=list(df.columns.values[1:-1])\n",
        "features.remove('RH')\n",
        "X=df[features]\n",
        "y=df['RH']\n",
        "\n",
        "\n",
        "# Splitting the DataFrame into the train and test sets.\n",
        "# Test set will have 33% of the values.\n",
        "X_train, X_test, y_train,y_test= train_test_split(X,y,test_size=0.33,random_state=42)\n",
        "y_train_reshaped=y_train.values.reshape(-1,1)\n",
        "y_test_reshaped=y_test.values.reshape(-1,1)\n",
        "\n",
        "\n",
        "\n",
        "# Build a linear regression model using the 'sklearn.linear_model' module.\n",
        "sklearn_lin_reg=LinearRegression()\n",
        "sklearn_lin_reg.fit(X_train,y_train_reshaped)\n",
        "\n",
        "\n",
        "# Print the value of the intercept .\n",
        "print('Intercept :',sklearn_lin_reg.intercept_[0])\n",
        "\n",
        "# Print the names of the features along with the values of their corresponding coefficients.\n",
        "print(\"coefficent : \",sklearn_lin_reg.coef_)\n",
        "for item in list(zip(X.columns.values,sklearn_lin_reg.coef_[0])):\n",
        "  print(item[0],item[1])"
      ],
      "execution_count": null,
      "outputs": [
        {
          "output_type": "stream",
          "name": "stdout",
          "text": [
            "Intercept : -15028.451823247718\n",
            "coefficent :  [[ 1.48327948e-02 -9.03464156e-01 -5.88095941e-03  1.50325488e-03\n",
            "   2.64965020e-02 -1.06574176e-03 -2.35491907e+00  2.95517421e+01\n",
            "   7.50515310e+00  1.16786097e+00  3.52321248e-02]]\n",
            "PT08.S1(CO) 0.014832794792690625\n",
            "C6H6(GT) -0.9034641560183382\n",
            "PT08.S2(NMHC) -0.005880959405385411\n",
            "PT08.S3(NOx) 0.0015032548783276978\n",
            "PT08.S4(NO2) 0.026496502045666503\n",
            "PT08.S5(O3) -0.001065741763271788\n",
            "T -2.354919067592639\n",
            "AH 29.551742104329783\n",
            "Year 7.505153097892558\n",
            "Month 1.1678609682998067\n",
            "Day 0.03523212478929974\n"
          ]
        }
      ]
    },
    {
      "cell_type": "code",
      "metadata": {
        "id": "-BxonYJweOlM",
        "colab": {
          "base_uri": "https://localhost:8080/"
        },
        "outputId": "da0fdc69-44a9-42d9-92d4-64da9ca9ac6a"
      },
      "source": [
        "# Evaluate the linear regression model using the 'r2_score', 'mean_squared_error' & 'mean_absolute_error' functions of the 'sklearn' module.\n",
        "from sklearn.metrics import r2_score, mean_squared_error,mean_absolute_error\n",
        "import numpy as np\n",
        "y_train_pred=sklearn_lin_reg.predict(X_train)\n",
        "y_test_pred=sklearn_lin_reg.predict(X_test)\n",
        "print('Train Set')\n",
        "print('')\n",
        "print('R-squared : ',r2_score(y_train_reshaped,y_train_pred))\n",
        "print('\\nmean squared error : ',mean_squared_error(y_train_reshaped,y_train_pred))\n",
        "print('\\nroot mean squared error : ',np.sqrt(mean_squared_error(y_train_reshaped,y_train_pred)))\n",
        "print('\\nmean absolute error : ',mean_absolute_error(y_train_reshaped,y_train_pred))\n",
        "print('-------------------------------------------------------------')\n",
        "print('Test set')\n",
        "print('')\n",
        "print('R-squared : ',r2_score(y_test_reshaped,y_test_pred))\n",
        "print('\\nmean squared error : ',mean_squared_error(y_test_reshaped,y_test_pred))\n",
        "print('\\nroot mean squared error : ',np.sqrt(mean_squared_error(y_test_reshaped,y_test_pred)))\n",
        "print('\\nmean absolute error : ',mean_absolute_error(y_test_reshaped,y_test_pred))\n"
      ],
      "execution_count": null,
      "outputs": [
        {
          "output_type": "stream",
          "name": "stdout",
          "text": [
            "Train Set\n",
            "\n",
            "R-squared :  0.8785638240066055\n",
            "\n",
            "mean squared error :  35.11591834141915\n",
            "\n",
            "root mean squared error :  5.925868572742662\n",
            "\n",
            "mean absolute error :  4.571994849644625\n",
            "-------------------------------------------------------------\n",
            "Test set\n",
            "\n",
            "R-squared :  0.8787020691681189\n",
            "\n",
            "mean squared error :  34.702124455429534\n",
            "\n",
            "root mean squared error :  5.8908509109830245\n",
            "\n",
            "mean absolute error :  4.5644604329243466\n"
          ]
        }
      ]
    }
  ]
}
