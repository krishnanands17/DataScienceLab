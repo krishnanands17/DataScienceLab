{
  "nbformat": 4,
  "nbformat_minor": 0,
  "metadata": {
    "colab": {
      "name": "CO3-KRISHNANANDS-09/12/21",
      "provenance": [],
      "collapsed_sections": [],
      "include_colab_link": true
    },
    "kernelspec": {
      "name": "python3",
      "display_name": "Python 3"
    }
  },
  "cells": [
    {
      "cell_type": "markdown",
      "metadata": {
        "id": "view-in-github",
        "colab_type": "text"
      },
      "source": [
        "<a href=\"https://colab.research.google.com/github/krishnanands17/DataScienceLab/blob/main/CO3.1PG1-Simple_Linear_Regression-09-12-21.ipynb\" target=\"_parent\"><img src=\"https://colab.research.google.com/assets/colab-badge.svg\" alt=\"Open In Colab\"/></a>"
      ]
    },
    {
      "cell_type": "markdown",
      "metadata": {
        "id": "m9dW2iOz-9Y-"
      },
      "source": [
        "### Problem Statement \n",
        "\n",
        "As an owner of a startup, you wish to forecast the sales of your product to plan how much money should be spent on advertisements. This is because the sale of a product is usually proportional to the money spent on advertisements.\n",
        "\n",
        "Predict the impact of TV advertising on your product sales by performing simple linear regression analysis. \n",
        "\n",
        "\n",
        "\n"
      ]
    },
    {
      "cell_type": "markdown",
      "metadata": {
        "id": "l2W51RVUDq5Q"
      },
      "source": [
        "---"
      ]
    },
    {
      "cell_type": "markdown",
      "metadata": {
        "id": "b-0V3uyC_wkC"
      },
      "source": [
        "### List of Activities\n",
        "\n",
        "**Activity 1:** Analysing the dataset\n",
        "\n",
        "  \n",
        "**Activity 2:**  Train-Test split\n",
        "\n",
        "**Activity 3:**  Model training\n",
        "\n",
        "**Activity 4:** Plotting the best fit line\n",
        "\n",
        "**Activity 5:** Model prediction\n",
        "\n",
        "\n",
        "\n"
      ]
    },
    {
      "cell_type": "markdown",
      "metadata": {
        "id": "iPsloISKDsAG"
      },
      "source": [
        "---"
      ]
    },
    {
      "cell_type": "markdown",
      "metadata": {
        "id": "hEtQxeW__6oW"
      },
      "source": [
        "\n",
        "#### Activity 1:  Analysing the Dataset\n",
        "\n",
        "Create a Pandas DataFrame for **Advertising-Sales** dataset using the below link. This dataset contains information about the money spent on the TV, radio and newspaper advertisement (in thousand dollars) and their generated sales (in thousand units). The dataset consists of examples that are divided by 1000.\n",
        "\n",
        "**Dataset Link:** https://raw.githubusercontent.com/jiss-sngce/CO_3/main/advertising.csv\n",
        "\n",
        "Also, print the first five rows of the dataset. Check for null values and treat them accordingly.\n",
        "\n",
        "\n"
      ]
    },
    {
      "cell_type": "code",
      "metadata": {
        "id": "BdIrU2M0AWLK",
        "colab": {
          "base_uri": "https://localhost:8080/",
          "height": 206
        },
        "outputId": "c700a478-d0b3-402e-91bc-71764b7c9edb"
      },
      "source": [
        "# Import modules\n",
        "import pandas as pd\n",
        "import seaborn as sns\n",
        "import matplotlib.pyplot as plt\n",
        "\n",
        "import numpy as np\n",
        "\n",
        "# Load the dataset\n",
        "ds = pd.read_csv(\"https://raw.githubusercontent.com/jiss-sngce/CO_3/main/advertising.csv\")\n",
        "# Print first five rows using head() function\n",
        "ds.head()"
      ],
      "execution_count": null,
      "outputs": [
        {
          "output_type": "execute_result",
          "data": {
            "text/html": [
              "<div>\n",
              "<style scoped>\n",
              "    .dataframe tbody tr th:only-of-type {\n",
              "        vertical-align: middle;\n",
              "    }\n",
              "\n",
              "    .dataframe tbody tr th {\n",
              "        vertical-align: top;\n",
              "    }\n",
              "\n",
              "    .dataframe thead th {\n",
              "        text-align: right;\n",
              "    }\n",
              "</style>\n",
              "<table border=\"1\" class=\"dataframe\">\n",
              "  <thead>\n",
              "    <tr style=\"text-align: right;\">\n",
              "      <th></th>\n",
              "      <th>TV</th>\n",
              "      <th>Radio</th>\n",
              "      <th>Newspaper</th>\n",
              "      <th>Sales</th>\n",
              "    </tr>\n",
              "  </thead>\n",
              "  <tbody>\n",
              "    <tr>\n",
              "      <th>0</th>\n",
              "      <td>230.1</td>\n",
              "      <td>37.8</td>\n",
              "      <td>69.2</td>\n",
              "      <td>22.1</td>\n",
              "    </tr>\n",
              "    <tr>\n",
              "      <th>1</th>\n",
              "      <td>44.5</td>\n",
              "      <td>39.3</td>\n",
              "      <td>45.1</td>\n",
              "      <td>10.4</td>\n",
              "    </tr>\n",
              "    <tr>\n",
              "      <th>2</th>\n",
              "      <td>17.2</td>\n",
              "      <td>45.9</td>\n",
              "      <td>69.3</td>\n",
              "      <td>12.0</td>\n",
              "    </tr>\n",
              "    <tr>\n",
              "      <th>3</th>\n",
              "      <td>151.5</td>\n",
              "      <td>41.3</td>\n",
              "      <td>58.5</td>\n",
              "      <td>16.5</td>\n",
              "    </tr>\n",
              "    <tr>\n",
              "      <th>4</th>\n",
              "      <td>180.8</td>\n",
              "      <td>10.8</td>\n",
              "      <td>58.4</td>\n",
              "      <td>17.9</td>\n",
              "    </tr>\n",
              "  </tbody>\n",
              "</table>\n",
              "</div>"
            ],
            "text/plain": [
              "      TV  Radio  Newspaper  Sales\n",
              "0  230.1   37.8       69.2   22.1\n",
              "1   44.5   39.3       45.1   10.4\n",
              "2   17.2   45.9       69.3   12.0\n",
              "3  151.5   41.3       58.5   16.5\n",
              "4  180.8   10.8       58.4   17.9"
            ]
          },
          "metadata": {},
          "execution_count": 34
        }
      ]
    },
    {
      "cell_type": "code",
      "metadata": {
        "id": "8LXtVcLdhxo7",
        "colab": {
          "base_uri": "https://localhost:8080/"
        },
        "outputId": "52f5296e-56e9-4496-d6db-71e50017bf55"
      },
      "source": [
        "# Check if there are any null values. If any column has null values, treat them accordingly\n",
        "ds.isnull().sum()\n"
      ],
      "execution_count": null,
      "outputs": [
        {
          "output_type": "execute_result",
          "data": {
            "text/plain": [
              "TV           0\n",
              "Radio        0\n",
              "Newspaper    0\n",
              "Sales        0\n",
              "dtype: int64"
            ]
          },
          "metadata": {},
          "execution_count": 5
        }
      ]
    },
    {
      "cell_type": "markdown",
      "metadata": {
        "id": "rm8nBjLwiqzC"
      },
      "source": [
        "---"
      ]
    },
    {
      "cell_type": "markdown",
      "metadata": {
        "id": "lx5UydtLIYyG"
      },
      "source": [
        "#### Activity 2: Train-Test Split\n",
        "\n",
        "For simple linear regression, consider only the effect of **TV ads** on sales. Thus, `TV` is the feature variable and `Sales` is the target variable. \n",
        "\n",
        "Split the dataset into training set and test set such that the training set contains 67% of the instances and the remaining instances will become the test set.\n",
        "\n",
        "\n"
      ]
    },
    {
      "cell_type": "code",
      "metadata": {
        "id": "REuLvaloGigG"
      },
      "source": [
        "# Split the DataFrame into the training and test sets.\n",
        "from sklearn.model_selection import train_test_split\n",
        "x = ds['TV']\n",
        "y = ds['Sales']\n",
        "trds_x,tsds_x,trds_y,tsds_y = train_test_split(x,y,test_size=0.33,random_state = 42)\n"
      ],
      "execution_count": null,
      "outputs": []
    },
    {
      "cell_type": "code",
      "source": [
        "#test Data\n",
        "tsds_x.head()"
      ],
      "metadata": {
        "colab": {
          "base_uri": "https://localhost:8080/"
        },
        "id": "B_MGdAauiyaz",
        "outputId": "927abd0b-f6dc-4075-e740-e33323043723"
      },
      "execution_count": null,
      "outputs": [
        {
          "output_type": "execute_result",
          "data": {
            "text/plain": [
              "95     163.3\n",
              "15     195.4\n",
              "30     292.9\n",
              "158     11.7\n",
              "128    220.3\n",
              "Name: TV, dtype: float64"
            ]
          },
          "metadata": {},
          "execution_count": 15
        }
      ]
    },
    {
      "cell_type": "code",
      "source": [
        "trds_y.head()"
      ],
      "metadata": {
        "colab": {
          "base_uri": "https://localhost:8080/"
        },
        "id": "nx2iiUsEl7hb",
        "outputId": "7f13f3cc-c439-4503-c064-3bacf9253406"
      },
      "execution_count": null,
      "outputs": [
        {
          "output_type": "execute_result",
          "data": {
            "text/plain": [
              "42     20.7\n",
              "189     6.7\n",
              "90     14.0\n",
              "136     9.5\n",
              "51     10.7\n",
              "Name: Sales, dtype: float64"
            ]
          },
          "metadata": {},
          "execution_count": 17
        }
      ]
    },
    {
      "cell_type": "markdown",
      "metadata": {
        "id": "fSxPcV0ySZDu"
      },
      "source": [
        "---"
      ]
    },
    {
      "cell_type": "markdown",
      "metadata": {
        "id": "-k2GAbeQQq7Q"
      },
      "source": [
        "#### Activity 3: Model Training\n",
        "\n",
        "Train the simple regression model using **training data** to obtain the best fit line $y = mx + c$. For this, perform the following tasks:\n",
        "\n",
        "1. Create following two functions:\n",
        "\n",
        " - A function `errors_product()` that calculates the errors for the feature and target variables i.e. $(x_i - \\bar{x})(y_i - \\bar{y})$\n",
        "\n",
        " - A function `squared_errors()` that calculates the squared errors for the feature variable only i.e. $(x_i - \\bar{x})^2$\n",
        "\n",
        "2. Calculate the **slope** and **intercept** values for the best fit line by applying the following formulae:\n",
        " $$slope\\Rightarrow m = \\frac{\\sum(x_i - \\bar{x})(y_i - \\bar{y})}{\\sum (x_i - \\bar{x})^2}=\\frac{ errors\\_product().sum()}{squared\\_errors().sum()}$$\n",
        "\n",
        " $$intercept \\Rightarrow c = \\bar{y} - m \\bar{x}$$\n",
        "\n"
      ]
    },
    {
      "cell_type": "code",
      "metadata": {
        "id": "a__FT7MHHve4"
      },
      "source": [
        "# Create the 'errors_product()' and 'squared_errors()' function.\n",
        "def errors_product():\n",
        "  err_pro = (trds_x - trds_x.mean()) * (trds_y - trds_y.mean())\n",
        "  return err_pro\n",
        "\n",
        "def squared_errors():\n",
        "  sqr_err = (trds_x - trds_x.mean()) ** 2\n",
        "  return sqr_err"
      ],
      "execution_count": null,
      "outputs": []
    },
    {
      "cell_type": "code",
      "metadata": {
        "id": "UyGNYvU7H0hR",
        "colab": {
          "base_uri": "https://localhost:8080/"
        },
        "outputId": "b92fc3e5-4ee3-488d-d824-40e2c5c3fdcb"
      },
      "source": [
        "# Calculate the slope and intercept values for the best fit line.\n",
        "import numpy as np\n",
        "slope = np.sum(errors_product()) / np.sum(squared_errors())\n",
        "intersept = trds_y.mean() - slope * trds_x.mean()\n",
        "print('Slope',slope,'Intersept',intersept)"
      ],
      "execution_count": null,
      "outputs": [
        {
          "output_type": "stream",
          "name": "stdout",
          "text": [
            "Slope 0.055698944351506 Intersept 7.127012656133822\n"
          ]
        }
      ]
    },
    {
      "cell_type": "code",
      "source": [
        "trds_x"
      ],
      "metadata": {
        "colab": {
          "base_uri": "https://localhost:8080/"
        },
        "id": "W0vEMA24swPV",
        "outputId": "7b4fc34d-bdd2-4f4e-b29b-280066f99e5b"
      },
      "execution_count": null,
      "outputs": [
        {
          "output_type": "execute_result",
          "data": {
            "text/plain": [
              "42     293.6\n",
              "189     18.7\n",
              "90     134.3\n",
              "136     25.6\n",
              "51     100.4\n",
              "       ...  \n",
              "106     25.0\n",
              "14     204.1\n",
              "92     217.7\n",
              "179    165.6\n",
              "102    280.2\n",
              "Name: TV, Length: 134, dtype: float64"
            ]
          },
          "metadata": {},
          "execution_count": 27
        }
      ]
    },
    {
      "cell_type": "code",
      "source": [
        "tsds_y"
      ],
      "metadata": {
        "colab": {
          "base_uri": "https://localhost:8080/"
        },
        "id": "YbzHKLUNs1nM",
        "outputId": "cdc474db-bb9c-458a-a72c-ad09eef28f77"
      },
      "execution_count": null,
      "outputs": [
        {
          "output_type": "execute_result",
          "data": {
            "text/plain": [
              "95     16.9\n",
              "15     22.4\n",
              "30     21.4\n",
              "158     7.3\n",
              "128    24.7\n",
              "       ... \n",
              "97     20.5\n",
              "31     11.9\n",
              "12      9.2\n",
              "35     17.8\n",
              "119     6.6\n",
              "Name: Sales, Length: 66, dtype: float64"
            ]
          },
          "metadata": {},
          "execution_count": 28
        }
      ]
    },
    {
      "cell_type": "markdown",
      "metadata": {
        "id": "cLJaPWLtfY8g"
      },
      "source": [
        "**Q:** What is the equation obtained for the best fit line of this model?\n",
        "\n",
        "**A:** y  =0.0557 x + 7.1270"
      ]
    },
    {
      "cell_type": "markdown",
      "metadata": {
        "id": "2_3_qkZThe1W"
      },
      "source": [
        "---"
      ]
    },
    {
      "cell_type": "markdown",
      "metadata": {
        "id": "3AO9GzYGe0bm"
      },
      "source": [
        "#### Activity 4: Plotting the Best Fit Line\n",
        "\n",
        "After obtaining the slope and intercept values for the best fit line, plot this line along with the scatter plot to see how well it fits the points.\n"
      ]
    },
    {
      "cell_type": "code",
      "metadata": {
        "id": "6zzogPW1H46r",
        "colab": {
          "base_uri": "https://localhost:8080/",
          "height": 296
        },
        "outputId": "a22c8707-8d45-4fdd-d884-06f2691240b9"
      },
      "source": [
        "#Plot the regression line in the scatter plot between Sales and TV advertisment values.\n",
        "plt.figure(figsize=(16,4))\n",
        "plt.scatter(ds['TV'], ds['Sales'])\n",
        "sales = slope * ds['TV'] + intersept\n",
        "plt.plot(ds['TV'],sales,color ='r')\n",
        "plt.xlabel('TV Advertising')\n",
        "plt.ylabel('Sales')\n",
        "plt.legend()\n",
        "plt.show()"
      ],
      "execution_count": null,
      "outputs": [
        {
          "output_type": "stream",
          "name": "stderr",
          "text": [
            "No handles with labels found to put in legend.\n"
          ]
        },
        {
          "output_type": "display_data",
          "data": {
            "image/png": "[encoded data removed]",
            "text/plain": [
              "<Figure size 1152x288 with 1 Axes>"
            ]
          },
          "metadata": {
            "needs_background": "light"
          }
        }
      ]
    },
    {
      "cell_type": "markdown",
      "metadata": {
        "id": "VCnDWR0lSayX"
      },
      "source": [
        "---"
      ]
    },
    {
      "cell_type": "markdown",
      "metadata": {
        "id": "ZcXTWRKuRAIs"
      },
      "source": [
        "#### Activity 5: Model Prediction\n",
        "\n",
        "For the TV advertising of $50,000, what is prediction for Sales? In order to predict this value, perform the following task:\n",
        "\n",
        "- Based on the regression line, create a function `sales_predicted()` which takes a budget to be used for TV advertising as an input and returns the corresponding units of Sales.\n",
        "- Call the function `sales_predicted()` and pass the amount spent on TV advertising. \n",
        "\n",
        "**Note:** To predict the sales for TV advertising of $50,000, pass 50 as parameter to `sales_predicted()` function as the original data of this dataset consists of examples that are divided by 1000. Also, the value obtained after calling `sales_predicted(50)` must be multiplied by 1000 to obtain the predicted units of sales.\n",
        "\n"
      ]
    },
    {
      "cell_type": "code",
      "metadata": {
        "id": "RKKT9L8nIfL_",
        "colab": {
          "base_uri": "https://localhost:8080/"
        },
        "outputId": "ee93b909-dea0-4f6d-de60-cd6c5fba661a"
      },
      "source": [
        "#Create a function which takes TV advertisement value as an input and returns the sales.\n",
        "def sales_predicted(amt):\n",
        "  unit = slope * amt + intersept\n",
        "  return unit\n",
        "  \n",
        "# Calculating sales value against $50,000 spent in TV ads.\n",
        "unit = sales_predicted(50)*1000\n",
        "print(unit)\n"
      ],
      "execution_count": null,
      "outputs": [
        {
          "output_type": "stream",
          "name": "stdout",
          "text": [
            "9911.959873709122\n"
          ]
        }
      ]
    },
    {
      "cell_type": "markdown",
      "metadata": {
        "id": "RMl41ptEpLhi"
      },
      "source": [
        "**Q:** If you are planning to invest $50,000 dollars in TV advertising, how many unit of sales can be predicted according to this simple linear regression model?\n",
        "\n",
        "**A:** 9911.959873709122"
      ]
    },
    {
      "cell_type": "markdown",
      "metadata": {
        "id": "6Ybzt1WtVTiz"
      },
      "source": [
        "---"
      ]
    },
    {
      "cell_type": "code",
      "source": [
        "#import the linearRegression class from the sklearn.linear_model\n",
        "from sklearn.linear_model import LinearRegression\n",
        "trds_x_res = trds_x.values.reshape(-1,1)\n",
        "trds_x_res.shape"
      ],
      "metadata": {
        "colab": {
          "base_uri": "https://localhost:8080/"
        },
        "id": "uFfH7eJs41zE",
        "outputId": "206676fc-0bd2-4138-d9b6-c2d5517b9e7f"
      },
      "execution_count": null,
      "outputs": [
        {
          "output_type": "execute_result",
          "data": {
            "text/plain": [
              "(134, 1)"
            ]
          },
          "metadata": {},
          "execution_count": 55
        }
      ]
    },
    {
      "cell_type": "code",
      "source": [
        "trds_y_res = trds_y.values.reshape(-1,1)\n",
        "trds_y_res.shape"
      ],
      "metadata": {
        "colab": {
          "base_uri": "https://localhost:8080/"
        },
        "id": "3_F3zlvs66ut",
        "outputId": "a57663da-83d3-46d9-e02a-4506c309ea1a"
      },
      "execution_count": null,
      "outputs": [
        {
          "output_type": "execute_result",
          "data": {
            "text/plain": [
              "(134, 1)"
            ]
          },
          "metadata": {},
          "execution_count": 59
        }
      ]
    },
    {
      "cell_type": "code",
      "source": [
        "trds_y.shape\n",
        "type(trds_x)"
      ],
      "metadata": {
        "colab": {
          "base_uri": "https://localhost:8080/"
        },
        "id": "ly7TzIkQ5j1Z",
        "outputId": "05ba07f9-b06a-4672-a9bf-b038ad7d7b3f"
      },
      "execution_count": null,
      "outputs": [
        {
          "output_type": "execute_result",
          "data": {
            "text/plain": [
              "pandas.core.series.Series"
            ]
          },
          "metadata": {},
          "execution_count": 54
        }
      ]
    },
    {
      "cell_type": "code",
      "source": [
        "#create object for linear regression class\n",
        "model = LinearRegression()\n",
        "\n",
        "#call the fit function:Fit function is used for training the model.Input to Fit function should be 2D arrays\n",
        "model.fit(trds_x_res,trds_y_res)\n",
        "\n",
        "#print the slope and intercept values\n",
        "print(model.intercept_)\n",
        "print(model.coef_)"
      ],
      "metadata": {
        "colab": {
          "base_uri": "https://localhost:8080/"
        },
        "id": "6WQkHw0V7itb",
        "outputId": "a8ab4f2f-5382-4bb8-ee69-9ffdffd86474"
      },
      "execution_count": null,
      "outputs": [
        {
          "output_type": "stream",
          "name": "stdout",
          "text": [
            "[7.12701266]\n",
            "[[0.05569894]]\n"
          ]
        }
      ]
    }
  ]
}